{
 "cells": [
  {
   "cell_type": "code",
   "execution_count": 1,
   "metadata": {},
   "outputs": [],
   "source": [
    "import requests\n",
    "import csv"
   ]
  },
  {
   "cell_type": "code",
   "execution_count": 42,
   "metadata": {},
   "outputs": [
    {
     "data": {
      "text/plain": [
       "'Ticker\\tName\\tCurrent\\tCondition\\tTarget\\tNotification Message\\r\\nTQQQ\\tProShares UltraPro QQQ\\t46.10\\t<\\t40.00\\t\\r\\nQLD\\tProShares Ultra QQQ\\t61.30\\t<\\t62.00\\t\\r\\nUPRO\\tProShares UltraPro S&P500\\t53.95\\t<\\t50.00\\t\\r\\nSSO\\tProShares Ultra S&P500\\t58.64\\t<\\t65.00\\t\\r\\nUSD\\tCURRENCY:USDKRW\\t1,224.00\\t>\\t1,250.00\\t'"
      ]
     },
     "execution_count": 42,
     "metadata": {},
     "output_type": "execute_result"
    }
   ],
   "source": [
    "id = '1aNf48iIFo3faHQhP1DN2fp2UeTBD6xWj_a_6d_Wi-8Q'\n",
    "gid = '2009918939'\n",
    "res = requests.get(f'https://docs.google.com/spreadsheets/d/{id}/export?format=tsv&gid={gid}')\n",
    "\n",
    "if res.status_code == 400:\n",
    "    exit('Spreadsheet is not shared anyone with the link.')\n",
    "\n",
    "res.text"
   ]
  },
  {
   "cell_type": "code",
   "execution_count": 45,
   "metadata": {},
   "outputs": [
    {
     "name": "stdout",
     "output_type": "stream",
     "text": [
      "['Ticker', 'Name', 'Current', 'Condition', 'Target', 'Notification Message']\n",
      "['TQQQ', 'ProShares UltraPro QQQ', '46.10', '<', '40.00', '']\n",
      "['QLD', 'ProShares Ultra QQQ', '61.30', '<', '62.00', '']\n",
      "['UPRO', 'ProShares UltraPro S&P500', '53.95', '<', '50.00', '']\n",
      "['SSO', 'ProShares Ultra S&P500', '58.64', '<', '65.00', '']\n",
      "['USD', 'CURRENCY:USDKRW', '1,224.00', '>', '1,250.00', '']\n"
     ]
    }
   ],
   "source": [
    "r = csv.reader(res.text.split('\\n'), delimiter='\\t')\n",
    "for row in r:\n",
    "    print(row)"
   ]
  }
 ],
 "metadata": {
  "interpreter": {
   "hash": "26b5f9ff77536082b6cd7b1bc82f4cac19cc29ad7ac3a7601c4d4dea0c2d777c"
  },
  "kernelspec": {
   "display_name": "Python 3.10.2 ('venv': venv)",
   "language": "python",
   "name": "python3"
  },
  "language_info": {
   "codemirror_mode": {
    "name": "ipython",
    "version": 3
   },
   "file_extension": ".py",
   "mimetype": "text/x-python",
   "name": "python",
   "nbconvert_exporter": "python",
   "pygments_lexer": "ipython3",
   "version": "3.10.2"
  },
  "orig_nbformat": 4
 },
 "nbformat": 4,
 "nbformat_minor": 2
}
