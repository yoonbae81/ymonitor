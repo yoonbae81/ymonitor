{
 "cells": [
  {
   "cell_type": "code",
   "execution_count": 61,
   "metadata": {},
   "outputs": [],
   "source": [
    "import requests\n",
    "import csv"
   ]
  },
  {
   "cell_type": "code",
   "execution_count": 74,
   "metadata": {},
   "outputs": [],
   "source": [
    "id = '1aNf48iIFo3faHQhP1DN2fp2UeTBD6xWj_a_6d_Wi-8Q'\n",
    "URL = f'https://docs.google.com/spreadsheets/d/{id}/export?format=tsv'\n",
    "res = requests.get(URL)"
   ]
  },
  {
   "cell_type": "code",
   "execution_count": 75,
   "metadata": {},
   "outputs": [
    {
     "data": {
      "text/plain": [
       "'Ticker\\tName\\tCurrent\\tCondition\\tTarget\\tNotification Message\\r\\nTQQQ\\tProShares UltraPro QQQ\\t44.68\\t<\\t40.00\\t\\r\\nQLD\\tProShares Ultra QQQ\\t60.00\\t<\\t62.00\\t\\r\\nUPRO\\tProShares UltraPro S&P500\\t52.16\\t<\\t50.00\\t\\r\\nSSO\\tProShares Ultra S&P500\\t57.36\\t<\\t65.00\\t\\r\\n292150\\tMirae Asset TIGER Top 10 ETF\\t11,715.00\\t<\\t12,060.00\\t\\r\\n314250\\tKODEX FANG PLUS(H)\\t23,555.00\\t<\\t23,000.00\\t\\r\\n381170\\tTIGER US Tech Top10 INDXX\\t11,165.00\\t<\\t11,000.00\\t\\r\\n372330\\tKODEX China Hang Seng TECH\\t6,215.00\\t<\\t6,200.00\\t\\r\\nUSD\\tCURRENCY:USDKRW\\t1,231.15\\t>\\t1,250.00\\t'"
      ]
     },
     "execution_count": 75,
     "metadata": {},
     "output_type": "execute_result"
    }
   ],
   "source": [
    "res.text"
   ]
  },
  {
   "cell_type": "code",
   "execution_count": 76,
   "metadata": {},
   "outputs": [
    {
     "name": "stdout",
     "output_type": "stream",
     "text": [
      "['Ticker', 'Name', 'Current', 'Condition', 'Target', 'Notification Message']\n",
      "['TQQQ', 'ProShares UltraPro QQQ', '44.68', '<', '40.00', '']\n",
      "['QLD', 'ProShares Ultra QQQ', '60.00', '<', '62.00', '']\n",
      "['UPRO', 'ProShares UltraPro S&P500', '52.16', '<', '50.00', '']\n",
      "['SSO', 'ProShares Ultra S&P500', '57.36', '<', '65.00', '']\n",
      "['292150', 'Mirae Asset TIGER Top 10 ETF', '11,715.00', '<', '12,060.00', '']\n",
      "['314250', 'KODEX FANG PLUS(H)', '23,555.00', '<', '23,000.00', '']\n",
      "['381170', 'TIGER US Tech Top10 INDXX', '11,165.00', '<', '11,000.00', '']\n",
      "['372330', 'KODEX China Hang Seng TECH', '6,215.00', '<', '6,200.00', '']\n",
      "['USD', 'CURRENCY:USDKRW', '1,231.15', '>', '1,250.00', '']\n"
     ]
    }
   ],
   "source": [
    "r = csv.reader(res.text.split('\\n'), delimiter='\\t')\n",
    "for row in r:\n",
    "    print(row)"
   ]
  }
 ],
 "metadata": {
  "interpreter": {
   "hash": "26b5f9ff77536082b6cd7b1bc82f4cac19cc29ad7ac3a7601c4d4dea0c2d777c"
  },
  "kernelspec": {
   "display_name": "Python 3.10.2 ('venv': venv)",
   "language": "python",
   "name": "python3"
  },
  "language_info": {
   "codemirror_mode": {
    "name": "ipython",
    "version": 3
   },
   "file_extension": ".py",
   "mimetype": "text/x-python",
   "name": "python",
   "nbconvert_exporter": "python",
   "pygments_lexer": "ipython3",
   "version": "3.10.2"
  },
  "orig_nbformat": 4
 },
 "nbformat": 4,
 "nbformat_minor": 2
}
