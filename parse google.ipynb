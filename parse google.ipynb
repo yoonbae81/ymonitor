{
 "cells": [
  {
   "cell_type": "code",
   "execution_count": 4,
   "metadata": {},
   "outputs": [],
   "source": [
    "import requests\n",
    "import csv\n",
    "from dataclasses import dataclass"
   ]
  },
  {
   "cell_type": "code",
   "execution_count": 2,
   "metadata": {},
   "outputs": [
    {
     "data": {
      "text/plain": [
       "'Ticker\\tName\\tCurrent\\tCondition\\tTarget\\tNotification Message\\r\\nTQQQ\\tProShares UltraPro QQQ\\t41.49\\t<\\t40.00\\t\\r\\nQLD\\tProShares Ultra QQQ\\t57.28\\t<\\t62.00\\t\\r\\nUPRO\\tProShares UltraPro S&P500\\t51.33\\t<\\t50.00\\t\\r\\nSSO\\tProShares Ultra S&P500\\t56.73\\t<\\t65.00\\t\\r\\nUSD\\tCURRENCY:USDKRW\\t1,242.54\\t>\\t1,250.00\\t'"
      ]
     },
     "execution_count": 2,
     "metadata": {},
     "output_type": "execute_result"
    }
   ],
   "source": [
    "id = '1aNf48iIFo3faHQhP1DN2fp2UeTBD6xWj_a_6d_Wi-8Q'\n",
    "gid = '2009918939'\n",
    "res = requests.get(f'https://docs.google.com/spreadsheets/d/{id}/export?format=tsv&gid={gid}')\n",
    "\n",
    "if res.status_code == 400:\n",
    "    exit('Spreadsheet is not shared anyone with the link.')\n",
    "\n",
    "res.text"
   ]
  },
  {
   "cell_type": "code",
   "execution_count": 22,
   "metadata": {},
   "outputs": [
    {
     "data": {
      "text/plain": [
       "[['TQQQ', 'ProShares UltraPro QQQ', '41.49', '<', '40.00', ''],\n",
       " ['QLD', 'ProShares Ultra QQQ', '57.28', '<', '62.00', ''],\n",
       " ['UPRO', 'ProShares UltraPro S&P500', '51.33', '<', '50.00', ''],\n",
       " ['SSO', 'ProShares Ultra S&P500', '56.73', '<', '65.00', ''],\n",
       " ['USD', 'CURRENCY:USDKRW', '1,242.54', '>', '1,250.00', '']]"
      ]
     },
     "execution_count": 22,
     "metadata": {},
     "output_type": "execute_result"
    }
   ],
   "source": [
    "r = csv.reader(res.text.split('\\n'), delimiter='\\t')\n",
    "next(r)  # skip header\n",
    "l = list(r)\n",
    "l"
   ]
  },
  {
   "cell_type": "code",
   "execution_count": 5,
   "metadata": {},
   "outputs": [],
   "source": [
    "@dataclass\n",
    "class Stock:\n",
    "    ticker: str\n",
    "    name: str\n",
    "    current: float\n",
    "    condition: str\n",
    "    target: float\n",
    "    message: str\n"
   ]
  },
  {
   "cell_type": "code",
   "execution_count": 25,
   "metadata": {},
   "outputs": [
    {
     "data": {
      "text/plain": [
       "Stock(ticker='TQQQ', name='ProShares UltraPro QQQ', current='41.49', condition='<', target='40.00', message='')"
      ]
     },
     "execution_count": 25,
     "metadata": {},
     "output_type": "execute_result"
    }
   ],
   "source": [
    "Stock(*l[0])"
   ]
  },
  {
   "cell_type": "code",
   "execution_count": null,
   "metadata": {},
   "outputs": [],
   "source": []
  }
 ],
 "metadata": {
  "interpreter": {
   "hash": "26b5f9ff77536082b6cd7b1bc82f4cac19cc29ad7ac3a7601c4d4dea0c2d777c"
  },
  "kernelspec": {
   "display_name": "Python 3.10.2 ('venv': venv)",
   "language": "python",
   "name": "python3"
  },
  "language_info": {
   "codemirror_mode": {
    "name": "ipython",
    "version": 3
   },
   "file_extension": ".py",
   "mimetype": "text/x-python",
   "name": "python",
   "nbconvert_exporter": "python",
   "pygments_lexer": "ipython3",
   "version": "3.10.2"
  },
  "orig_nbformat": 4
 },
 "nbformat": 4,
 "nbformat_minor": 2
}
